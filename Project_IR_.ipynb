{
  "nbformat": 4,
  "nbformat_minor": 0,
  "metadata": {
    "colab": {
      "provenance": []
    },
    "kernelspec": {
      "name": "python3",
      "display_name": "Python 3"
    },
    "language_info": {
      "name": "python"
    }
  },
  "cells": [
    {
      "cell_type": "code",
      "source": [
        "!pip install requests beautifulsoup4\n"
      ],
      "metadata": {
        "colab": {
          "base_uri": "https://localhost:8080/"
        },
        "id": "z63bAJTuw1Z6",
        "outputId": "4a49deb0-576d-42b9-ac5d-300693d3d158"
      },
      "execution_count": null,
      "outputs": [
        {
          "output_type": "stream",
          "name": "stdout",
          "text": [
            "Looking in indexes: https://pypi.org/simple, https://us-python.pkg.dev/colab-wheels/public/simple/\n",
            "Requirement already satisfied: requests in /usr/local/lib/python3.10/dist-packages (2.27.1)\n",
            "Requirement already satisfied: beautifulsoup4 in /usr/local/lib/python3.10/dist-packages (4.11.2)\n",
            "Requirement already satisfied: urllib3<1.27,>=1.21.1 in /usr/local/lib/python3.10/dist-packages (from requests) (1.26.15)\n",
            "Requirement already satisfied: certifi>=2017.4.17 in /usr/local/lib/python3.10/dist-packages (from requests) (2022.12.7)\n",
            "Requirement already satisfied: charset-normalizer~=2.0.0 in /usr/local/lib/python3.10/dist-packages (from requests) (2.0.12)\n",
            "Requirement already satisfied: idna<4,>=2.5 in /usr/local/lib/python3.10/dist-packages (from requests) (3.4)\n",
            "Requirement already satisfied: soupsieve>1.2 in /usr/local/lib/python3.10/dist-packages (from beautifulsoup4) (2.4.1)\n"
          ]
        }
      ]
    },
    {
      "cell_type": "code",
      "source": [
        "import requests\n",
        "from bs4 import BeautifulSoup\n",
        "import csv\n",
        "\n",
        "base_url = \"https://www.amazon.eg/s\"\n",
        "\n",
        "WUW = input(\"What you want to buy :\")\n",
        "params = {\n",
        "    'k': WUW,\n",
        "    'rh': 'n:21832883031',\n",
        "    'sprefix': WUW,\n",
        "    'ref': 'nb_sb_noss'\n",
        "}\n",
        "\n",
        "headers = {\n",
        "    'User-Agent': 'Mozilla/5.0 (Windows NT 10.0; Win64; x64) AppleWebKit/537.36 '\n",
        "                  '(KHTML, like Gecko) Chrome/58.0.3029.110 Safari/537.3'\n",
        "}\n",
        "\n",
        "results = []\n",
        "page_number = 2\n",
        "\n",
        "while True:\n",
        "    response = requests.get(base_url, headers=headers, params = params)\n",
        "    soup = BeautifulSoup(response.content, 'html.parser')\n",
        "    print(response)\n",
        "    products = soup.find_all('div', {'data-component-type': 's-search-result'})\n",
        "    if not products:\n",
        "      break\n",
        "\n",
        "    for product in products:\n",
        "        name_element = product.find('span', {'class': 'a-size-base-plus a-color-base a-text-normal'})\n",
        "        price_element = product.find('span', {'class': 'a-price-whole'})\n",
        "        rating_element = product.find('span', {'class': 'a-icon-alt'})\n",
        "        Stock_element = product.find('span', {'class': 'a-size-base'})\n",
        "        image_element = product.find('img', {'class': 's-image'})\n",
        "\n",
        "        name = name_element.text.strip() if name_element else 'N/A'\n",
        "        price = price_element.text.strip() if price_element else 'N/A'\n",
        "        rating = rating_element.text.strip() if rating_element else 'N/A'\n",
        "        Stock = Stock_element.text.strip() if Stock_element else 'N/A'\n",
        "        image_url = image_element['src'] if image_element else ''\n",
        "        print(rating)\n",
        "        results.append([name, price, rating, Stock, image_url, page_number])\n",
        "        print(name)\n",
        "\n",
        "    page_number += 1\n",
        "\n",
        "filename = \"product.csv\"\n",
        "with open(filename, 'w', newline='', encoding='utf-8') as csvfile:\n",
        "    writer = csv.writer(csvfile)\n",
        "    writer.writerow(['Name', 'Price', 'Rating', 'Stock', 'Image URL', 'Page Number'])\n",
        "    writer.writerows(results)\n"
      ],
      "metadata": {
        "colab": {
          "base_uri": "https://localhost:8080/"
        },
        "id": "1jnTEjYFTy_T",
        "outputId": "d67d9937-ab8c-472d-ffd9-89c0a3a9d2cb"
      },
      "execution_count": null,
      "outputs": [
        {
          "output_type": "stream",
          "name": "stdout",
          "text": [
            "What you want to buy :laptops\n",
            "<Response [503]>\n"
          ]
        }
      ]
    },
    {
      "cell_type": "code",
      "source": [],
      "metadata": {
        "id": "kIchVuxxzDVi"
      },
      "execution_count": null,
      "outputs": []
    }
  ]
}